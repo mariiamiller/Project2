{
 "cells": [
  {
   "cell_type": "code",
   "execution_count": 7,
   "metadata": {},
   "outputs": [],
   "source": [
    "from bs4 import BeautifulSoup\n",
    "import json\n",
    "import requests \n",
    "\n",
    "def latest_report(symbol):    \n",
    "    url = 'https://www.sec.gov/cgi-bin/browse-edgar?CIK='+symbol+'&owner=exclude&action=getcompany&Find=Search'\n",
    "    response = requests.get(url)\n",
    "    soup = BeautifulSoup(response.text)\n",
    "    results = soup.find('table', class_=\"tableFile2\")\n",
    "    trs = results.find_all('tr')\n",
    "    qtr_t = []\n",
    "    dates = []\n",
    "    links = []\n",
    "    for tr in trs:\n",
    "        line = tr.find('td')\n",
    "        if line:\n",
    "            if line.text == '10-Q'or line.text == '10-K':\n",
    "                qtr_t.append(line.text)\n",
    "                dates.append(tr.find_all('td')[3].text)\n",
    "                links.append('https://www.sec.gov'+tr.find_all('a')[1]['href'])\n",
    "    \n",
    "\n",
    "    data = links\n",
    "    return data\n"
   ]
  },
  {
   "cell_type": "code",
   "execution_count": 8,
   "metadata": {},
   "outputs": [
    {
     "data": {
      "text/plain": [
       "['https://www.sec.gov/cgi-bin/viewer?action=view&cik=1018724&accession_number=0001018724-19-000089&xbrl_type=v',\n",
       " 'https://www.sec.gov/cgi-bin/viewer?action=view&cik=1018724&accession_number=0001018724-19-000071&xbrl_type=v',\n",
       " 'https://www.sec.gov/cgi-bin/viewer?action=view&cik=1018724&accession_number=0001018724-19-000043&xbrl_type=v',\n",
       " 'https://www.sec.gov/cgi-bin/viewer?action=view&cik=1018724&accession_number=0001018724-19-000004&xbrl_type=v',\n",
       " 'https://www.sec.gov/cgi-bin/viewer?action=view&cik=1018724&accession_number=0001018724-18-000159&xbrl_type=v']"
      ]
     },
     "execution_count": 8,
     "metadata": {},
     "output_type": "execute_result"
    }
   ],
   "source": [
    "latest_report('amzn')"
   ]
  },
  {
   "cell_type": "code",
   "execution_count": null,
   "metadata": {},
   "outputs": [],
   "source": []
  }
 ],
 "metadata": {
  "kernelspec": {
   "display_name": "Python 3",
   "language": "python",
   "name": "python3"
  },
  "language_info": {
   "codemirror_mode": {
    "name": "ipython",
    "version": 3
   },
   "file_extension": ".py",
   "mimetype": "text/x-python",
   "name": "python",
   "nbconvert_exporter": "python",
   "pygments_lexer": "ipython3",
   "version": "3.7.3"
  }
 },
 "nbformat": 4,
 "nbformat_minor": 2
}
