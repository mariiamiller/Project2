{
 "cells": [
  {
   "cell_type": "code",
   "execution_count": 2,
   "metadata": {},
   "outputs": [
    {
     "data": {
      "text/html": [
       "<div>\n",
       "<style scoped>\n",
       "    .dataframe tbody tr th:only-of-type {\n",
       "        vertical-align: middle;\n",
       "    }\n",
       "\n",
       "    .dataframe tbody tr th {\n",
       "        vertical-align: top;\n",
       "    }\n",
       "\n",
       "    .dataframe thead th {\n",
       "        text-align: right;\n",
       "    }\n",
       "</style>\n",
       "<table border=\"1\" class=\"dataframe\">\n",
       "  <thead>\n",
       "    <tr style=\"text-align: right;\">\n",
       "      <th></th>\n",
       "      <th>symbol</th>\n",
       "      <th>date</th>\n",
       "      <th>release_time</th>\n",
       "    </tr>\n",
       "  </thead>\n",
       "  <tbody>\n",
       "    <tr>\n",
       "      <th>0</th>\n",
       "      <td>SFIX</td>\n",
       "      <td>2019-10-01</td>\n",
       "      <td>amc</td>\n",
       "    </tr>\n",
       "    <tr>\n",
       "      <th>1</th>\n",
       "      <td>MKC</td>\n",
       "      <td>2019-10-01</td>\n",
       "      <td>bmo</td>\n",
       "    </tr>\n",
       "    <tr>\n",
       "      <th>2</th>\n",
       "      <td>UNFI</td>\n",
       "      <td>2019-10-01</td>\n",
       "      <td>amc</td>\n",
       "    </tr>\n",
       "    <tr>\n",
       "      <th>3</th>\n",
       "      <td>SSNLF</td>\n",
       "      <td>2019-10-01</td>\n",
       "      <td>--</td>\n",
       "    </tr>\n",
       "    <tr>\n",
       "      <th>4</th>\n",
       "      <td>DNZOY</td>\n",
       "      <td>2019-10-01</td>\n",
       "      <td>--</td>\n",
       "    </tr>\n",
       "  </tbody>\n",
       "</table>\n",
       "</div>"
      ],
      "text/plain": [
       "  symbol        date release_time\n",
       "0   SFIX  2019-10-01          amc\n",
       "1    MKC  2019-10-01          bmo\n",
       "2   UNFI  2019-10-01          amc\n",
       "3  SSNLF  2019-10-01           --\n",
       "4  DNZOY  2019-10-01           --"
      ]
     },
     "execution_count": 2,
     "metadata": {},
     "output_type": "execute_result"
    }
   ],
   "source": [
    "import pandas as pd\n",
    "df= pd.read_csv('df_earnings.csv')\n",
    "df.head()"
   ]
  },
  {
   "cell_type": "code",
   "execution_count": 3,
   "metadata": {},
   "outputs": [],
   "source": [
    "df= df.drop_duplicates().reset_index()"
   ]
  },
  {
   "cell_type": "code",
   "execution_count": 4,
   "metadata": {},
   "outputs": [
    {
     "data": {
      "text/html": [
       "<div>\n",
       "<style scoped>\n",
       "    .dataframe tbody tr th:only-of-type {\n",
       "        vertical-align: middle;\n",
       "    }\n",
       "\n",
       "    .dataframe tbody tr th {\n",
       "        vertical-align: top;\n",
       "    }\n",
       "\n",
       "    .dataframe thead th {\n",
       "        text-align: right;\n",
       "    }\n",
       "</style>\n",
       "<table border=\"1\" class=\"dataframe\">\n",
       "  <thead>\n",
       "    <tr style=\"text-align: right;\">\n",
       "      <th></th>\n",
       "      <th>index</th>\n",
       "      <th>symbol</th>\n",
       "      <th>date</th>\n",
       "      <th>release_time</th>\n",
       "    </tr>\n",
       "  </thead>\n",
       "  <tbody>\n",
       "    <tr>\n",
       "      <th>0</th>\n",
       "      <td>0</td>\n",
       "      <td>SFIX</td>\n",
       "      <td>2019-10-01</td>\n",
       "      <td>amc</td>\n",
       "    </tr>\n",
       "    <tr>\n",
       "      <th>1</th>\n",
       "      <td>1</td>\n",
       "      <td>MKC</td>\n",
       "      <td>2019-10-01</td>\n",
       "      <td>bmo</td>\n",
       "    </tr>\n",
       "    <tr>\n",
       "      <th>2</th>\n",
       "      <td>2</td>\n",
       "      <td>UNFI</td>\n",
       "      <td>2019-10-01</td>\n",
       "      <td>amc</td>\n",
       "    </tr>\n",
       "    <tr>\n",
       "      <th>3</th>\n",
       "      <td>3</td>\n",
       "      <td>SSNLF</td>\n",
       "      <td>2019-10-01</td>\n",
       "      <td>--</td>\n",
       "    </tr>\n",
       "    <tr>\n",
       "      <th>4</th>\n",
       "      <td>4</td>\n",
       "      <td>DNZOY</td>\n",
       "      <td>2019-10-01</td>\n",
       "      <td>--</td>\n",
       "    </tr>\n",
       "  </tbody>\n",
       "</table>\n",
       "</div>"
      ],
      "text/plain": [
       "   index symbol        date release_time\n",
       "0      0   SFIX  2019-10-01          amc\n",
       "1      1    MKC  2019-10-01          bmo\n",
       "2      2   UNFI  2019-10-01          amc\n",
       "3      3  SSNLF  2019-10-01           --\n",
       "4      4  DNZOY  2019-10-01           --"
      ]
     },
     "execution_count": 4,
     "metadata": {},
     "output_type": "execute_result"
    }
   ],
   "source": [
    "df.head()"
   ]
  },
  {
   "cell_type": "code",
   "execution_count": 5,
   "metadata": {},
   "outputs": [],
   "source": [
    "df.to_csv(r'earnings_dates.csv',index = None, header = True)"
   ]
  },
  {
   "cell_type": "code",
   "execution_count": 6,
   "metadata": {},
   "outputs": [
    {
     "data": {
      "text/plain": [
       "ODT      2\n",
       "ONCS     2\n",
       "CYDY     2\n",
       "NTRP     2\n",
       "WGO      2\n",
       "SFIX     2\n",
       "WBA      2\n",
       "UNT      2\n",
       "COST     2\n",
       "BYSI     2\n",
       "ASH      2\n",
       "PRTK     2\n",
       "ATEYY    2\n",
       "SMMT     2\n",
       "DNZOY    2\n",
       "KNCAY    2\n",
       "RANJY    2\n",
       "SEKEY    2\n",
       "PAYX     2\n",
       "DSCSY    2\n",
       "ADRO     2\n",
       "GWR      2\n",
       "CTST     2\n",
       "ASEKY    2\n",
       "MDOMF    2\n",
       "UNFI     2\n",
       "YNDX     1\n",
       "QRTEA    1\n",
       "ZTO      1\n",
       "EVTC     1\n",
       "        ..\n",
       "EQBK     1\n",
       "ALT      1\n",
       "ZNGA     1\n",
       "IMXI     1\n",
       "REG      1\n",
       "INWK     1\n",
       "ALRM     1\n",
       "SCPL     1\n",
       "MRTX     1\n",
       "BPMC     1\n",
       "FFG      1\n",
       "ACCO     1\n",
       "NBRV     1\n",
       "OUT      1\n",
       "SPHS     1\n",
       "OCSL     1\n",
       "BDGE     1\n",
       "TS       1\n",
       "AIV      1\n",
       "JD       1\n",
       "BXMT     1\n",
       "PVL      1\n",
       "AVH      1\n",
       "CBRE     1\n",
       "GWRS     1\n",
       "MELI     1\n",
       "MLNT     1\n",
       "CELP     1\n",
       "FFIN     1\n",
       "SM       1\n",
       "Name: symbol, Length: 3629, dtype: int64"
      ]
     },
     "execution_count": 6,
     "metadata": {},
     "output_type": "execute_result"
    }
   ],
   "source": [
    "df['symbol'].value_counts()"
   ]
  },
  {
   "cell_type": "code",
   "execution_count": null,
   "metadata": {},
   "outputs": [],
   "source": []
  }
 ],
 "metadata": {
  "kernelspec": {
   "display_name": "Python 3",
   "language": "python",
   "name": "python3"
  },
  "language_info": {
   "codemirror_mode": {
    "name": "ipython",
    "version": 3
   },
   "file_extension": ".py",
   "mimetype": "text/x-python",
   "name": "python",
   "nbconvert_exporter": "python",
   "pygments_lexer": "ipython3",
   "version": "3.7.3"
  }
 },
 "nbformat": 4,
 "nbformat_minor": 2
}
